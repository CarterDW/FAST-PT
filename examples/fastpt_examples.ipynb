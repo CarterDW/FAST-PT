{
 "cells": [
  {
   "cell_type": "markdown",
   "metadata": {},
   "source": [
    "# This notebook shows examples of FAST-PT functionality\n",
    "\n",
    "Notebook by: Jonathan Blazek (blazek@berkeley.edu)  \n",
    "FAST-PT on github: https://github.com/JoeMcEwen/FAST-PT  \n",
    "Easy fast-pt installation: pip install fast-pt  \n",
    "(Note, use `--no-deps` if you use `conda` for most python packages)  \n",
    "Examples available from `examples/` on github"
   ]
  },
  {
   "cell_type": "markdown",
   "metadata": {},
   "source": [
    "<h2> Quick overview:</h2>  \n",
    "<b> Step 0:</b> Install fast-pt.  \n",
    "<b> Step 1:</b> Get (k,Plin) with even log sampling.  \n",
    "<b> Step 2:</b> Initialize a fast-pt object: fpt_obj = fpt.FASTPT(k, to_do=to_do, ...)  \n",
    "<b> Step 3:</b> Calculated desired PT quantities: *e.g.*, P_spt = fpt_obj.one_loop_dd(Plin)  \n",
    "<b> Step 4:</b> Assemble into final quantity: *e.g.*, P_1loop = Plin + P_spt[0]\n"
   ]
  },
  {
   "cell_type": "code",
   "execution_count": 1,
   "metadata": {},
   "outputs": [],
   "source": [
    "# import standard packages\n",
    "import numpy as np\n",
    "import pylab as plt\n",
    "%matplotlib inline\n",
    "\n",
    "# import fastpt\n",
    "import fastpt as fpt\n",
    "import fastpt.HT as HT\n",
    "\n",
    "# import the Core Cosmology Library (CCL) if you have it\n",
    "try:\n",
    "    import pyccl as ccl\n",
    "    have_ccl = True\n",
    "except:\n",
    "    have_ccl = False\n",
    "    print('CCL not found. Steps with CCL will be skipped.')\n",
    "\n",
    "# If you want to test HT against external Bessel transform code\n",
    "try:\n",
    "    from mcfit import P2xi\n",
    "    have_mcfit = True\n",
    "except:\n",
    "    have_mcfit = False\n",
    "    print('mcfit not found. Steps with mcfit will be skipped.')"
   ]
  },
  {
   "cell_type": "markdown",
   "metadata": {},
   "source": [
    "<h3> Get $P_{\\rm lin}(k)$ from an external source: </h3>"
   ]
  },
  {
   "cell_type": "code",
   "execution_count": 2,
   "metadata": {},
   "outputs": [],
   "source": [
    "\n",
    "## Get from CCL (which runs CLASS by default)\n",
    "if have_ccl:\n",
    "    # set two cosmologies\n",
    "    cosmo = ccl.Cosmology(Omega_c=0.27, Omega_b=0.045, h=0.67, A_s=2.1e-9, n_s=0.96)\n",
    "    cosmo2 = ccl.Cosmology(Omega_c=0.30, Omega_b=0.045, h=0.67, A_s=2.0e-9, n_s=0.96)\n",
    "\n",
    "    # Get the linear power spectrum at z=0 for our given cosmologies\n",
    "    # k array to be used for power spectra\n",
    "    nk = 512\n",
    "    log10kmin = -5\n",
    "    log10kmax = 2\n",
    "    ks = np.logspace(log10kmin,log10kmax,nk)\n",
    "    pk_lin_z0 = ccl.linear_matter_power(cosmo,ks,1)\n",
    "    pk_lin_z0_2 = ccl.linear_matter_power(cosmo2,ks,1)\n",
    "\n",
    "## Or get from pre-computed CAMB run\n",
    "# This file is in the same examples/ folder\n",
    "d = np.loadtxt('Pk_test.dat')\n",
    "k = d[:, 0]\n",
    "pk = d[:, 1]\n",
    "p22 = d[:, 2]\n",
    "p13 = d[:, 3]\n",
    "\n",
    "if not have_ccl:\n",
    "    ks = k\n",
    "    pk_lin_z0 = pk\n",
    "    pk_lin_z0_2 = None\n",
    "    \n",
    "## Or get from your preferred Boltzmann code\n",
    "\n",
    "# Note: k needs to be evenly log spaced. FAST-PT will raise an error if it's not.\n",
    "# We have an issue to add automatic interpolation, but this is not yet implemented.\n",
    "\n",
    "# Evaluation time scales as roughly N*logN. Tradeoff between time and accuracy in choosing k resolution.\n",
    "# Currently, k sampling must be done outside of FAST-PT. This feature will also be added."
   ]
  },
  {
   "cell_type": "code",
   "execution_count": 3,
   "metadata": {},
   "outputs": [],
   "source": [
    "# Set FAST-PT settings.\n",
    "\n",
    "# the to_do list sets the k-grid quantities needed in initialization (e.g. the relevant gamma functions)\n",
    "to_do = ['one_loop_dd', 'dd_bias', 'one_loop_cleft_dd', 'IA_all', 'OV', 'kPol', 'RSD', 'IRres']\n",
    "\n",
    "pad_factor = 1 # padding the edges with zeros before Pk repeats\n",
    "n_pad = pad_factor*len(ks)\n",
    "low_extrap = -5 # Extend Plin to this log10 value if necessary (power law)\n",
    "high_extrap = 3 # Extend Plin to this log10 value if necessary (power law)\n",
    "P_window = None # Smooth the input power spectrum edges (typically not needed, especially with zero padding)\n",
    "C_window = .75 # Smooth the Fourier coefficients of Plin to remove high-frequency noise."
   ]
  },
  {
   "cell_type": "markdown",
   "metadata": {},
   "source": [
    "<h3> Initialize a FAST-PT object on a given k-grid. </h3>\n",
    "<h3> This step does not depend on cosmology and can be re-used, e.g. in an MCMC. </h3>\n",
    "<h4> (CosmoSIS has this implemented, saving roughly 50% of total FAST-PT runtime.) </h4>"
   ]
  },
  {
   "cell_type": "code",
   "execution_count": 4,
   "metadata": {},
   "outputs": [],
   "source": [
    "# FAST-PT will parse the full to-do list and only calculate each needed quantity once.\n",
    "# Ideally, the initialization happens once per likelihood evaluation, or even once per chain.\n",
    "\n",
    "fpt_obj = fpt.FASTPT(ks,to_do=to_do,low_extrap=low_extrap,high_extrap=high_extrap,n_pad=n_pad)\n",
    "\n",
    "#fpt_obj_temp = fpt.FASTPT(k,to_do=to_do,low_extrap=low_extrap,high_extrap=high_extrap,n_pad=n_pad)"
   ]
  },
  {
   "cell_type": "markdown",
   "metadata": {},
   "source": [
    "<h3> Now we start calculating things that depend on cosmology </h3>"
   ]
  },
  {
   "cell_type": "code",
   "execution_count": 5,
   "metadata": {},
   "outputs": [],
   "source": [
    "# For PT, we need to multiply by the relevant powers of the growth factor.\n",
    "# For simplicity, we will do this all at z=0, where growth = 1. But we will keep the factors explicit.\n",
    "growth = 1.0\n",
    "g2 = growth**2\n",
    "g4 = growth**4\n",
    "\n",
    "## If you have CCL, you could use that here for growth at any redshift.\n",
    "if have_ccl:\n",
    "    z = 0.0\n",
    "    gz = ccl.growth_factor(cosmo,1./(1+z))\n",
    "    g2 = gz**2\n",
    "    g4 = gz**4"
   ]
  },
  {
   "cell_type": "markdown",
   "metadata": {},
   "source": [
    "<h3>Simplest case: 1-loop SPT for matter.</h3>  \n",
    "$\\delta_m = \\delta^{(1)} + \\delta^{(2)} + \\delta^{(3)} + \\cdots$  \n",
    "$P_{mm} = P_{11} + P_{22} + 2P_{13} + \\cdots$"
   ]
  },
  {
   "cell_type": "code",
   "execution_count": 6,
   "metadata": {},
   "outputs": [],
   "source": [
    "# Calculate the 1-loop contributions with fast-pt\n",
    "P_spt = fpt_obj.one_loop_dd(pk_lin_z0,C_window=C_window,P_window=P_window)[0]\n",
    "\n",
    "# Assemble the 1-loop Pk:\n",
    "P_1loop = g2*pk_lin_z0 + g4*P_spt\n",
    "\n",
    "if have_ccl:\n",
    "    # If you have a second cosmology, can run it here.\n",
    "    # Both cosmologies use the same fast-pt object.\n",
    "    P_spt_2 = fpt_obj.one_loop_dd(pk_lin_z0_2,C_window=C_window,P_window=P_window)[0]\n",
    "    P_1loop_2 = g2*pk_lin_z0_2 + g4*P_spt_2"
   ]
  },
  {
   "cell_type": "code",
   "execution_count": 7,
   "metadata": {},
   "outputs": [
    {
     "data": {
      "text/plain": [
       "<matplotlib.legend.Legend at 0x11ca6bcf8>"
      ]
     },
     "execution_count": 7,
     "metadata": {},
     "output_type": "execute_result"
    },
    {
     "data": {
      "image/png": "[encoded data removed]",
      "text/plain": [
       "<Figure size 432x288 with 1 Axes>"
      ]
     },
     "metadata": {
      "needs_background": "light"
     },
     "output_type": "display_data"
    }
   ],
   "source": [
    "# Plot\n",
    "plt.plot(ks,P_1loop, 'r', label='$P_{1loop}(k)$ cosmo 1')\n",
    "plt.plot(ks,pk_lin_z0, 'r--', label='linear')\n",
    "if have_ccl:\n",
    "    plt.plot(ks,P_1loop_2, 'b', label='$P_{1loop}(k)$ cosmo 2')\n",
    "    plt.plot(ks,pk_lin_z0_2, 'b--')\n",
    "\n",
    "plt.xscale('log')\n",
    "plt.yscale('log')\n",
    "plt.xlabel('$k$', fontsize=14)\n",
    "plt.ylabel('$P(k)$', fontsize=14)\n",
    "plt.legend(loc='lower left', fontsize=12, frameon=False)"
   ]
  },
  {
   "cell_type": "markdown",
   "metadata": {},
   "source": [
    "<h3> FAST-PT includes an implementation of FFTLog for Bessel transforms. </h3>"
   ]
  },
  {
   "cell_type": "code",
   "execution_count": 8,
   "metadata": {},
   "outputs": [
    {
     "name": "stderr",
     "output_type": "stream",
     "text": [
      "/Users/blazek/Packages/anaconda3/envs/ccl/lib/python3.6/site-packages/mcfit/mcfit.py:125: UserWarning: The default value of lowring has been changed to False, set it to True if you cannot reproduce previous results\n",
      "  warnings.warn(\"The default value of lowring has been changed to False, \"\n",
      "/Users/blazek/Packages/anaconda3/envs/ccl/lib/python3.6/site-packages/mcfit/mcfit.py:219: UserWarning: The default value of extrap has been changed to False, set it to True if you cannot reproduce previous results\n",
      "  warnings.warn(\"The default value of extrap has been changed to False, \"\n"
     ]
    },
    {
     "data": {
      "text/plain": [
       "<matplotlib.legend.Legend at 0x120fae780>"
      ]
     },
     "execution_count": 8,
     "metadata": {},
     "output_type": "execute_result"
    },
    {
     "data": {
      "image/png": "[encoded data removed]",
      "text/plain": [
       "<Figure size 432x288 with 1 Axes>"
      ]
     },
     "metadata": {
      "needs_background": "light"
     },
     "output_type": "display_data"
    }
   ],
   "source": [
    "# Calculate the standard correlation function\n",
    "r,xi = HT.k_to_r(ks,pk_lin_z0,1.5,-1.5,.5, (2.*np.pi)**(-1.5))\n",
    "r,xi_1loop = HT.k_to_r(ks,P_1loop,1.5,-1.5,.5, (2.*np.pi)**(-1.5))\n",
    "#r2,xi2 = HT2.k_to_r(ks,pk_lin_z0,1.5,-1.5,.5, (2.*np.pi)**(-1.5))\n",
    "# For the J2 transform (e.g. DeltaSigma or w_g+)\n",
    "# r,xi_2=HT.k_to_r(k,P,1.,-1.,2., 4.*np.pi*np.sqrt(np.pi/2.))\n",
    "\n",
    "if have_mcfit:\n",
    "    # can test the transform with other code, e.g. mcfit\n",
    "    rr,xxi = P2xi(ks)(pk_lin_z0)\n",
    "if have_ccl:\n",
    "    # can also compare to the output from CCL\n",
    "    kmin, kmax, nk = 1e-4, 1e1, 128\n",
    "    rmin, rmax, nr = 1, 2e2, 128\n",
    "    kccl = np.logspace(np.log10(kmin), np.log10(kmax), nk) # Wavenumber\n",
    "    rccl = np.logspace(np.log10(rmin), np.log10(rmax), nr)\n",
    "    a = 1. # Scale factor a z=0\n",
    "    xi_nl = ccl.correlation_3d(cosmo,a, rccl)\n",
    "\n",
    "# Make a plot\n",
    "plt.plot(r,xi, 'r', label=r'$\\xi_{lin}(k)$ cosmo 1')\n",
    "plt.plot(r,xi_1loop, 'r', label=r'$\\xi_{nl}(k)$ cosmo 1, 1-loop')\n",
    "#plt.plot(r2,xi2, 'b', label=r'$\\xi_{lin}(k)$ cosmo 1, new HT')\n",
    "if have_ccl:\n",
    "    plt.plot(rccl,xi_nl, 'b', label=r'$\\xi_{nl}(k)$ CCL nonlin HF')\n",
    "if have_mcfit:\n",
    "    plt.plot(rr ,xxi, 'y--', label=r'$\\xi_{lin}(k)$ mcfit')\n",
    "\n",
    "plt.xscale('log')\n",
    "plt.yscale('log')\n",
    "plt.xlabel('$r$', fontsize=14)\n",
    "plt.ylabel(r'$\\xi$', fontsize=14)\n",
    "plt.xlim(1e0,2e2)\n",
    "plt.ylim(1e-4,1e2)\n",
    "plt.legend(loc='lower left', fontsize=12, frameon=False)"
   ]
  },
  {
   "cell_type": "markdown",
   "metadata": {},
   "source": [
    "<b> As has been well-documented, SPT does not properly handle bulk velocities, leading to a poor description of the BAO.</b>\n",
    "\n",
    "<h3>IR-resummation techniques can fix this. FAST-PT includes an implementation from M. Ivanov.</h3>"
   ]
  },
  {
   "cell_type": "code",
   "execution_count": 9,
   "metadata": {},
   "outputs": [
    {
     "data": {
      "text/plain": [
       "<matplotlib.legend.Legend at 0x1229478d0>"
      ]
     },
     "execution_count": 9,
     "metadata": {},
     "output_type": "execute_result"
    },
    {
     "data": {
      "image/png": "[encoded data removed]",
      "text/plain": [
       "<Figure size 432x288 with 1 Axes>"
      ]
     },
     "metadata": {
      "needs_background": "light"
     },
     "output_type": "display_data"
    }
   ],
   "source": [
    "P_IRres = fpt_obj.IRres(pk_lin_z0,C_window=C_window)\n",
    "# Note that this function needs documentation/validation\n",
    "\n",
    "r,xi_IRres = HT.k_to_r(ks,P_IRres,1.5,-1.5,.5, (2.*np.pi)**(-1.5))\n",
    "\n",
    "# Plot\n",
    "plt.plot(r,xi, 'g--', label=r'$\\xi(k)$ cosmo 1, lin')\n",
    "plt.plot(r,xi_IRres, 'b', label=r'$\\xi(k)$ cosmo 1, IR res')\n",
    "plt.plot(r,xi_1loop, 'r--', label=r'$\\xi(k)$ cosmo 1, 1-loop')\n",
    "\n",
    "\n",
    "plt.xscale('log')\n",
    "plt.yscale('log')\n",
    "plt.xlabel('$r$', fontsize=14)\n",
    "plt.ylabel(r'$\\xi$', fontsize=14)\n",
    "if have_ccl:\n",
    "    plt.xlim(5e1,2e2)\n",
    "else:\n",
    "    plt.xlim(3e1,1.5e2)\n",
    "plt.ylim(1e-4,1e-1)\n",
    "plt.legend(loc='lower left', fontsize=12, frameon=False)\n"
   ]
  },
  {
   "cell_type": "markdown",
   "metadata": {},
   "source": [
    "<h3> Eulerian biasing.</h3>  \n",
    "$\\delta_g = b_1 \\delta_m + \\frac{1}{2}b_2 \\delta_m^2 + \\frac{1}{2}b_s s^2 + \\frac{1}{2}b_{3nl} \\psi + \\cdots$"
   ]
  },
  {
   "cell_type": "code",
   "execution_count": 10,
   "metadata": {},
   "outputs": [],
   "source": [
    "P_bias_E = fpt_obj.one_loop_dd_bias_b3nl(pk_lin_z0,C_window=C_window)\n",
    "\n",
    "# Output individual terms\n",
    "Pd1d1 = g2 * pk_lin_z0 + g4 * P_bias_E[0] # could use halofit or emulator instead of 1-loop SPT\n",
    "Pd1d2 = g4 * P_bias_E[2]\n",
    "Pd2d2 = g4 * P_bias_E[3]\n",
    "Pd1s2 = g4 * P_bias_E[4]\n",
    "Pd2s2 = g4 * P_bias_E[5]\n",
    "Ps2s2 = g4 * P_bias_E[6]\n",
    "Pd1p3 = g4 * P_bias_E[8]\n",
    "s4 =  g4 * P_bias_E[7] # sigma^4 which determines the (non-physical) low-k contributions"
   ]
  },
  {
   "cell_type": "code",
   "execution_count": 11,
   "metadata": {},
   "outputs": [
    {
     "data": {
      "text/plain": [
       "<matplotlib.legend.Legend at 0x122c03ac8>"
      ]
     },
     "execution_count": 11,
     "metadata": {},
     "output_type": "execute_result"
    },
    {
     "data": {
      "image/png": "[encoded data removed]",
      "text/plain": [
       "<Figure size 432x288 with 1 Axes>"
      ]
     },
     "metadata": {
      "needs_background": "light"
     },
     "output_type": "display_data"
    }
   ],
   "source": [
    "# set bias parameters\n",
    "b11=b12=1.0\n",
    "b21=b22=1.0\n",
    "bs1=bs2=1.0\n",
    "b3nl1=b3nl2=1.0\n",
    "\n",
    "# Combine for P_gg or P_mg\n",
    "P_gg = ((b11*b12) * Pd1d1 +\n",
    "        0.5*(b11*b22 + b12*b21) * Pd1d2 +\n",
    "        0.25*(b21*b22) * (Pd2d2 - 2.*s4) +\n",
    "        0.5*(b11*bs2 + b12*bs1) * Pd1s2 +\n",
    "        0.25*(b21*bs2 + b22*bs1) * (Pd2s2 - (4./3.)*s4) +\n",
    "        0.25*(bs1*bs2) * (Ps2s2 - (8./9.)*s4) +\n",
    "        0.5*(b11 * b3nl2 + b12 * b3nl1) * Pd1p3)\n",
    "\n",
    "P_mg = (b11 * Pd1d1 +\n",
    "        0.5*b21 * Pd1d2 +\n",
    "        0.5*bs1 * Pd1s2 +\n",
    "        0.5*b3nl1 * Pd1p3)\n",
    "\n",
    "# Plot\n",
    "plt.plot(ks,Pd1d1, 'k', label='$P_{d1d1}(k)$')\n",
    "plt.plot(ks,P_gg, 'r', label='$P_{gg}(k)$')\n",
    "plt.plot(ks,abs(P_gg), 'r--')\n",
    "plt.plot(ks,P_mg, 'b', label='$P_{mg}(k)$')\n",
    "\n",
    "plt.xscale('log')\n",
    "plt.yscale('log')\n",
    "plt.xlabel('$k$', fontsize=14)\n",
    "plt.ylabel('$P(k)$', fontsize=14)\n",
    "plt.xlim(1e-3,1e1)\n",
    "plt.ylim(1e2,1.1e5)\n",
    "plt.legend(loc='lower left', fontsize=12, frameon=False)"
   ]
  },
  {
   "cell_type": "markdown",
   "metadata": {},
   "source": [
    "<h3> Lagrangian biasing.</h3>  "
   ]
  },
  {
   "cell_type": "code",
   "execution_count": 12,
   "metadata": {},
   "outputs": [],
   "source": [
    "P_bias_L = fpt_obj.one_loop_dd_bias_lpt_NL(pk_lin_z0,C_window=C_window)\n",
    "# Full example coming"
   ]
  },
  {
   "cell_type": "markdown",
   "metadata": {},
   "source": [
    "<h3> Intrinsic alignments.</h3>\n",
    "e.g. \"TATT\" model, Blazek et al 2019:  \n",
    "  \n",
    "$\\gamma^{\\rm IA}_{ij} = C_1 s_{ij} + C_2 s_{ik}s_{kj} + C_{1\\delta} \\delta s_{ij} + C_t t_{ij} + \\cdots$  \n",
    "(Note: $t_{ij}$ term not yet released or merged into master.)"
   ]
  },
  {
   "cell_type": "code",
   "execution_count": 13,
   "metadata": {},
   "outputs": [],
   "source": [
    "P_IA_tt=fpt_obj.IA_tt(pk_lin_z0,C_window=C_window)\n",
    "P_IA_ta=fpt_obj.IA_ta(pk_lin_z0,C_window=C_window)\n",
    "P_IA_mix=fpt_obj.IA_mix(pk_lin_z0,C_window=C_window)\n",
    "# Full example coming.\n",
    "# See CCLX repo for example with CCL."
   ]
  },
  {
   "cell_type": "markdown",
   "metadata": {},
   "source": [
    "<h3> Convolutional Lagrangian Effective Field Theory (CLEFT).</h3>  "
   ]
  },
  {
   "cell_type": "code",
   "execution_count": 14,
   "metadata": {},
   "outputs": [],
   "source": [
    "# P_CLEFT = fpt_obj.cleft_Q_R(pk_lin_z0,C_window=C_window)\n",
    "# Currently broken. Work in progress.\n",
    "# Full example coming"
   ]
  },
  {
   "cell_type": "markdown",
   "metadata": {},
   "source": [
    "<h3> Redshift-space distortions with the TNS model.</h3>  \n",
    "<b> $A(k), B(k)$ implemented.  \n",
    "    Note: 1-1loop contributions currently being added for $P_{\\theta\\theta}, P_{\\delta\\theta}$ .</b>"
   ]
  },
  {
   "cell_type": "code",
   "execution_count": 15,
   "metadata": {},
   "outputs": [],
   "source": [
    "P_RSD=fpt_obj.RSD_components(pk_lin_z0,1.0,C_window=C_window)\n",
    "# Full example coming\n",
    "# Will re-factor output to allow more efficient dependence on f"
   ]
  },
  {
   "cell_type": "markdown",
   "metadata": {},
   "source": [
    "<h2> CCL has built-in FAST-PT capabilities - see notebooks in CCLX repo. FAST-PT is also integrated in CosmoSIS and CosmoLike. </h2>"
   ]
  },
  {
   "cell_type": "code",
   "execution_count": null,
   "metadata": {},
   "outputs": [],
   "source": []
  }
 ],
 "metadata": {
  "kernelspec": {
   "display_name": "Python [conda env:ccl] *",
   "language": "python",
   "name": "conda-env-ccl-py"
  },
  "language_info": {
   "codemirror_mode": {
    "name": "ipython",
    "version": 3
   },
   "file_extension": ".py",
   "mimetype": "text/x-python",
   "name": "python",
   "nbconvert_exporter": "python",
   "pygments_lexer": "ipython3",
   "version": "3.6.10"
  }
 },
 "nbformat": 4,
 "nbformat_minor": 2
}
